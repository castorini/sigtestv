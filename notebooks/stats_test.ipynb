{
 "cells": [
  {
   "cell_type": "code",
   "execution_count": 50,
   "metadata": {},
   "outputs": [
    {
     "name": "stdout",
     "output_type": "stream",
     "text": [
      "/home/ralph/programming/sigtestv\n"
     ]
    }
   ],
   "source": [
    "cd /home/ralph/programming/sigtestv"
   ]
  },
  {
   "cell_type": "code",
   "execution_count": 61,
   "metadata": {},
   "outputs": [],
   "source": [
    "import pandas as pd\n",
    "\n",
    "DF_FILENAME1 = 'data/bbase-sst2-4e-05.tsv'\n",
    "DF_FILENAME2 = 'data/blarge-sst2-4e-05.tsv'\n",
    "df1 = pd.read_csv(DF_FILENAME1, sep='\\t', quoting=3)\n",
    "df2 = pd.read_csv(DF_FILENAME2, sep='\\t', quoting=3)\n",
    "df1 = df1[df1['result'] > 0.6]\n",
    "df2 = df2[df2['result'] > 0.6]"
   ]
  },
  {
   "cell_type": "code",
   "execution_count": 57,
   "metadata": {},
   "outputs": [
    {
     "name": "stdout",
     "output_type": "stream",
     "text": [
      "p = 0.008450409397482872\n"
     ]
    }
   ],
   "source": [
    "from scipy.stats import shapiro\n",
    "print(f'p = {shapiro(df1[\"result\"])[1]}')"
   ]
  },
  {
   "cell_type": "code",
   "execution_count": 58,
   "metadata": {},
   "outputs": [
    {
     "data": {
      "image/png": "[encoded data removed]",
      "text/plain": [
       "<Figure size 432x288 with 1 Axes>"
      ]
     },
     "metadata": {
      "needs_background": "light"
     },
     "output_type": "display_data"
    }
   ],
   "source": [
    "from matplotlib import pyplot as plt\n",
    "plt.hist(df1['result'], bins=20)\n",
    "plt.show()"
   ]
  },
  {
   "cell_type": "code",
   "execution_count": 63,
   "metadata": {},
   "outputs": [
    {
     "name": "stdout",
     "output_type": "stream",
     "text": [
      "Ttest_indResult(statistic=-1.7244925453794437, pvalue=0.0866789177286018)\n",
      "0.9244580859866884 0.9258944954128439\n"
     ]
    }
   ],
   "source": [
    "from scipy.stats import ttest_ind\n",
    "import numpy as np\n",
    "print(ttest_ind(df1['result'], df2['result']))\n",
    "print(np.mean(df1['result']), np.mean(df2['result']))"
   ]
  },
  {
   "cell_type": "code",
   "execution_count": null,
   "metadata": {},
   "outputs": [],
   "source": []
  }
 ],
 "metadata": {
  "kernelspec": {
   "display_name": "Python 3",
   "language": "python",
   "name": "python3"
  },
  "language_info": {
   "codemirror_mode": {
    "name": "ipython",
    "version": 3
   },
   "file_extension": ".py",
   "mimetype": "text/x-python",
   "name": "python",
   "nbconvert_exporter": "python",
   "pygments_lexer": "ipython3",
   "version": "3.7.3"
  }
 },
 "nbformat": 4,
 "nbformat_minor": 4
}
